{
 "cells": [
  {
   "cell_type": "markdown",
   "id": "d02783a5",
   "metadata": {},
   "source": [
    "## Task Overview\n",
    "\n",
    "In this task I would perform the following techniques to catch outliers in the *Boston Housing* Dataset.\n",
    "1. Z-Score to find the how many standard deviations a data point is far from the mean.\n",
    "2. IQR (Interquartile Range) to tell where the middle 50% of the data lies in the dataset, rem "
   ]
  },
  {
   "cell_type": "code",
   "execution_count": 22,
   "id": "a85bc2c7",
   "metadata": {},
   "outputs": [],
   "source": [
    "import pandas as pd\n",
    "import numpy as np\n",
    "from scipy import stats"
   ]
  },
  {
   "cell_type": "code",
   "execution_count": 23,
   "id": "19df48e7",
   "metadata": {},
   "outputs": [
    {
     "data": {
      "text/html": [
       "<div>\n",
       "<style scoped>\n",
       "    .dataframe tbody tr th:only-of-type {\n",
       "        vertical-align: middle;\n",
       "    }\n",
       "\n",
       "    .dataframe tbody tr th {\n",
       "        vertical-align: top;\n",
       "    }\n",
       "\n",
       "    .dataframe thead th {\n",
       "        text-align: right;\n",
       "    }\n",
       "</style>\n",
       "<table border=\"1\" class=\"dataframe\">\n",
       "  <thead>\n",
       "    <tr style=\"text-align: right;\">\n",
       "      <th></th>\n",
       "      <th>ID</th>\n",
       "      <th>crim</th>\n",
       "      <th>zn</th>\n",
       "      <th>indus</th>\n",
       "      <th>chas</th>\n",
       "      <th>nox</th>\n",
       "      <th>rm</th>\n",
       "      <th>age</th>\n",
       "      <th>dis</th>\n",
       "      <th>rad</th>\n",
       "      <th>tax</th>\n",
       "      <th>ptratio</th>\n",
       "      <th>black</th>\n",
       "      <th>lstat</th>\n",
       "      <th>medv</th>\n",
       "    </tr>\n",
       "  </thead>\n",
       "  <tbody>\n",
       "    <tr>\n",
       "      <th>0</th>\n",
       "      <td>1</td>\n",
       "      <td>0.00632</td>\n",
       "      <td>18.0</td>\n",
       "      <td>2.31</td>\n",
       "      <td>0</td>\n",
       "      <td>0.538</td>\n",
       "      <td>6.575</td>\n",
       "      <td>65.2</td>\n",
       "      <td>4.0900</td>\n",
       "      <td>1</td>\n",
       "      <td>296</td>\n",
       "      <td>15.3</td>\n",
       "      <td>396.90</td>\n",
       "      <td>4.98</td>\n",
       "      <td>24.0</td>\n",
       "    </tr>\n",
       "    <tr>\n",
       "      <th>1</th>\n",
       "      <td>2</td>\n",
       "      <td>0.02731</td>\n",
       "      <td>0.0</td>\n",
       "      <td>7.07</td>\n",
       "      <td>0</td>\n",
       "      <td>0.469</td>\n",
       "      <td>6.421</td>\n",
       "      <td>78.9</td>\n",
       "      <td>4.9671</td>\n",
       "      <td>2</td>\n",
       "      <td>242</td>\n",
       "      <td>17.8</td>\n",
       "      <td>396.90</td>\n",
       "      <td>9.14</td>\n",
       "      <td>21.6</td>\n",
       "    </tr>\n",
       "    <tr>\n",
       "      <th>2</th>\n",
       "      <td>4</td>\n",
       "      <td>0.03237</td>\n",
       "      <td>0.0</td>\n",
       "      <td>2.18</td>\n",
       "      <td>0</td>\n",
       "      <td>0.458</td>\n",
       "      <td>6.998</td>\n",
       "      <td>45.8</td>\n",
       "      <td>6.0622</td>\n",
       "      <td>3</td>\n",
       "      <td>222</td>\n",
       "      <td>18.7</td>\n",
       "      <td>394.63</td>\n",
       "      <td>2.94</td>\n",
       "      <td>33.4</td>\n",
       "    </tr>\n",
       "    <tr>\n",
       "      <th>3</th>\n",
       "      <td>5</td>\n",
       "      <td>0.06905</td>\n",
       "      <td>0.0</td>\n",
       "      <td>2.18</td>\n",
       "      <td>0</td>\n",
       "      <td>0.458</td>\n",
       "      <td>7.147</td>\n",
       "      <td>54.2</td>\n",
       "      <td>6.0622</td>\n",
       "      <td>3</td>\n",
       "      <td>222</td>\n",
       "      <td>18.7</td>\n",
       "      <td>396.90</td>\n",
       "      <td>5.33</td>\n",
       "      <td>36.2</td>\n",
       "    </tr>\n",
       "    <tr>\n",
       "      <th>4</th>\n",
       "      <td>7</td>\n",
       "      <td>0.08829</td>\n",
       "      <td>12.5</td>\n",
       "      <td>7.87</td>\n",
       "      <td>0</td>\n",
       "      <td>0.524</td>\n",
       "      <td>6.012</td>\n",
       "      <td>66.6</td>\n",
       "      <td>5.5605</td>\n",
       "      <td>5</td>\n",
       "      <td>311</td>\n",
       "      <td>15.2</td>\n",
       "      <td>395.60</td>\n",
       "      <td>12.43</td>\n",
       "      <td>22.9</td>\n",
       "    </tr>\n",
       "  </tbody>\n",
       "</table>\n",
       "</div>"
      ],
      "text/plain": [
       "   ID     crim    zn  indus  chas    nox     rm   age     dis  rad  tax  \\\n",
       "0   1  0.00632  18.0   2.31     0  0.538  6.575  65.2  4.0900    1  296   \n",
       "1   2  0.02731   0.0   7.07     0  0.469  6.421  78.9  4.9671    2  242   \n",
       "2   4  0.03237   0.0   2.18     0  0.458  6.998  45.8  6.0622    3  222   \n",
       "3   5  0.06905   0.0   2.18     0  0.458  7.147  54.2  6.0622    3  222   \n",
       "4   7  0.08829  12.5   7.87     0  0.524  6.012  66.6  5.5605    5  311   \n",
       "\n",
       "   ptratio   black  lstat  medv  \n",
       "0     15.3  396.90   4.98  24.0  \n",
       "1     17.8  396.90   9.14  21.6  \n",
       "2     18.7  394.63   2.94  33.4  \n",
       "3     18.7  396.90   5.33  36.2  \n",
       "4     15.2  395.60  12.43  22.9  "
      ]
     },
     "execution_count": 23,
     "metadata": {},
     "output_type": "execute_result"
    }
   ],
   "source": [
    "df = pd.read_csv('boston-housing/train.csv')\n",
    "df = pd.DataFrame(df)\n",
    "df.head()"
   ]
  },
  {
   "cell_type": "code",
   "execution_count": 24,
   "id": "f26ed02d",
   "metadata": {},
   "outputs": [
    {
     "data": {
      "text/plain": [
       "0    0.00632\n",
       "1    0.02731\n",
       "2    0.03237\n",
       "3    0.06905\n",
       "4    0.08829\n",
       "Name: crim, dtype: float64"
      ]
     },
     "execution_count": 24,
     "metadata": {},
     "output_type": "execute_result"
    }
   ],
   "source": [
    "# Separating feature of which outliers I have to detect. I am targetting on Crime Rate.\n",
    "feature_df = pd.Series(df['crim'])\n",
    "feature_df.head()"
   ]
  },
  {
   "cell_type": "markdown",
   "id": "8c24bc4f",
   "metadata": {},
   "source": [
    "**Identifying Outliers via Calculating Z-Score.**"
   ]
  },
  {
   "cell_type": "code",
   "execution_count": 59,
   "id": "6d5214c6",
   "metadata": {},
   "outputs": [
    {
     "name": "stdout",
     "output_type": "stream",
     "text": [
      "261    38.3518\n",
      "267    28.6558\n",
      "268    45.7461\n",
      "270    25.9406\n",
      "271    73.5341\n",
      "275    37.6619\n",
      "Name: crim, dtype: float64\n"
     ]
    }
   ],
   "source": [
    "zScore = pd.Series(stats.zscore(feature_df))\n",
    "zScore_outliers = feature_df[np.abs(zScore) > 3]\n",
    "print(zScore_outliers)"
   ]
  },
  {
   "cell_type": "markdown",
   "id": "ff216870",
   "metadata": {},
   "source": [
    "**Calculating Interquartile Range IQR and Calculating Outliers.**"
   ]
  },
  {
   "cell_type": "code",
   "execution_count": 62,
   "id": "549aa3f1",
   "metadata": {},
   "outputs": [
    {
     "data": {
      "text/plain": [
       "242    13.52220\n",
       "245     9.23230\n",
       "247    11.10810\n",
       "248    18.49820\n",
       "249    15.28800\n",
       "250     9.82349\n",
       "251     9.18702\n",
       "253    20.08490\n",
       "254    24.39380\n",
       "255    22.59710\n",
       "258    11.57790\n",
       "259    13.35980\n",
       "261    38.35180\n",
       "262    25.04610\n",
       "263    14.23620\n",
       "264    24.80170\n",
       "265    11.95110\n",
       "267    28.65580\n",
       "268    45.74610\n",
       "269    18.08460\n",
       "270    25.94060\n",
       "271    73.53410\n",
       "272    11.81230\n",
       "274    15.86030\n",
       "275    37.66190\n",
       "277     9.33889\n",
       "278    10.06230\n",
       "281    13.91340\n",
       "282    15.17720\n",
       "283     9.39063\n",
       "284    22.05110\n",
       "285     9.72418\n",
       "287     9.96654\n",
       "288    12.80230\n",
       "289    10.67180\n",
       "290     9.92485\n",
       "291     9.32909\n",
       "307    15.57570\n",
       "308    13.07510\n",
       "313    15.02340\n",
       "314    10.23300\n",
       "315    14.33370\n",
       "Name: crim, dtype: float64"
      ]
     },
     "execution_count": 62,
     "metadata": {},
     "output_type": "execute_result"
    }
   ],
   "source": [
    "q1 = feature_df.quantile(0.25)\n",
    "q3 = feature_df.quantile(0.75)\n",
    "iqr = q3 - q1\n",
    "lowerBound = q1 - 1.5 * iqr\n",
    "upperBound = q3 + 1.5 * iqr\n",
    "iqr_outliers = feature_df[(feature_df < lowerBound) | (feature_df > upperBound)]\n",
    "iqr_outliers"
   ]
  },
  {
   "cell_type": "markdown",
   "id": "ac2e9a1d",
   "metadata": {},
   "source": [
    "**Plotting Box Plot to Show Outliers for the Crime Rate in Boston Areas.**"
   ]
  },
  {
   "cell_type": "code",
   "execution_count": 64,
   "id": "2c8e37a0",
   "metadata": {},
   "outputs": [],
   "source": [
    "import matplotlib.pyplot as plt\n",
    "import seaborn as sbn"
   ]
  },
  {
   "cell_type": "code",
   "execution_count": 88,
   "id": "8d8bdd05",
   "metadata": {},
   "outputs": [
    {
     "data": {
      "text/plain": [
       "Text(0.5, 1.0, 'Box Plot Before Treating Outliers.')"
      ]
     },
     "execution_count": 88,
     "metadata": {},
     "output_type": "execute_result"
    },
    {
     "data": {
      "image/png": "[encoded data removed]",
      "text/plain": [
       "<Figure size 1000x600 with 1 Axes>"
      ]
     },
     "metadata": {},
     "output_type": "display_data"
    }
   ],
   "source": [
    "plt.figure(figsize=(10,6))\n",
    "sbn.boxplot(feature_df)\n",
    "plt.title('Box Plot Before Treating Outliers.')"
   ]
  },
  {
   "cell_type": "markdown",
   "id": "683612e0",
   "metadata": {},
   "source": [
    "# **Treating Outliers obtained via IQR**\n",
    "\n",
    "I treated the outliers by replacing the crime rate values which were lower and upper than the lowerBound and upperBound respectively."
   ]
  },
  {
   "cell_type": "code",
   "execution_count": 87,
   "id": "61eafd2d",
   "metadata": {},
   "outputs": [
    {
     "data": {
      "image/png": "[encoded data removed]",
      "text/plain": [
       "<Figure size 1200x800 with 1 Axes>"
      ]
     },
     "metadata": {},
     "output_type": "display_data"
    }
   ],
   "source": [
    "treated_feature = feature_df.copy()\n",
    "treated_feature[(treated_feature < lowerBound)] = lowerBound\n",
    "treated_feature[(treated_feature > upperBound)] = upperBound\n",
    "\n",
    "plt.figure(figsize=(12,8))\n",
    "sbn.boxplot(treated_feature)\n",
    "plt.title('Box Plot After Treating Outliers.')\n",
    "plt.show()"
   ]
  },
  {
   "cell_type": "code",
   "execution_count": null,
   "id": "615489a6",
   "metadata": {},
   "outputs": [],
   "source": []
  }
 ],
 "metadata": {
  "kernelspec": {
   "display_name": "Python 3",
   "language": "python",
   "name": "python3"
  },
  "language_info": {
   "codemirror_mode": {
    "name": "ipython",
    "version": 3
   },
   "file_extension": ".py",
   "mimetype": "text/x-python",
   "name": "python",
   "nbconvert_exporter": "python",
   "pygments_lexer": "ipython3",
   "version": "3.12.1"
  }
 },
 "nbformat": 4,
 "nbformat_minor": 5
}
