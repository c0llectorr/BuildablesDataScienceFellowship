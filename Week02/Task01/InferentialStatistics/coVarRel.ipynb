{
 "cells": [
  {
   "cell_type": "code",
   "execution_count": 1,
   "id": "25b3561a",
   "metadata": {},
   "outputs": [],
   "source": [
    "import numpy as np\n",
    "from sklearn.datasets import load_iris"
   ]
  },
  {
   "cell_type": "code",
   "execution_count": 2,
   "id": "cab82774",
   "metadata": {},
   "outputs": [],
   "source": [
    "iris = load_iris(as_frame=True)\n",
    "df = iris.frame"
   ]
  },
  {
   "cell_type": "code",
   "execution_count": 3,
   "id": "be299b05",
   "metadata": {},
   "outputs": [
    {
     "data": {
      "text/plain": [
       "(np.float64(-0.042434004474272924), np.float64(-0.11756978413300208))"
      ]
     },
     "execution_count": 3,
     "metadata": {},
     "output_type": "execute_result"
    }
   ],
   "source": [
    "covariance = np.cov(df['sepal length (cm)'], df['sepal width (cm)'])[0,1]\n",
    "correlation = df['sepal length (cm)'].corr(df['sepal width (cm)'])\n",
    "\n",
    "covariance, correlation\n"
   ]
  },
  {
   "cell_type": "markdown",
   "id": "e486e79f",
   "metadata": {},
   "source": [
    "**Covariance shows direction of relationship (positive or negative).**\n",
    "**Correlation (ranging from -1 to +1) shows the strength of the relationship.**"
   ]
  }
 ],
 "metadata": {
  "kernelspec": {
   "display_name": "Python 3",
   "language": "python",
   "name": "python3"
  },
  "language_info": {
   "codemirror_mode": {
    "name": "ipython",
    "version": 3
   },
   "file_extension": ".py",
   "mimetype": "text/x-python",
   "name": "python",
   "nbconvert_exporter": "python",
   "pygments_lexer": "ipython3",
   "version": "3.12.1"
  }
 },
 "nbformat": 4,
 "nbformat_minor": 5
}
