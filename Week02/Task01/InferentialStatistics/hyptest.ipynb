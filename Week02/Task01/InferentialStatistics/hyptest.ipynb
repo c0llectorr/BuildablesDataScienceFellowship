{
 "cells": [
  {
   "cell_type": "code",
   "execution_count": 1,
   "id": "27b53430",
   "metadata": {},
   "outputs": [],
   "source": [
    "from sklearn.datasets import load_iris\n",
    "import scipy.stats as stats"
   ]
  },
  {
   "cell_type": "code",
   "execution_count": 2,
   "id": "f122956e",
   "metadata": {},
   "outputs": [],
   "source": [
    "iris = load_iris(as_frame=True)\n",
    "df = iris.frame"
   ]
  },
  {
   "cell_type": "code",
   "execution_count": 3,
   "id": "62eb7ee1",
   "metadata": {},
   "outputs": [
    {
     "data": {
      "text/plain": [
       "(np.float64(-39.492719391538095), np.float64(5.404910513441677e-62))"
      ]
     },
     "execution_count": 3,
     "metadata": {},
     "output_type": "execute_result"
    }
   ],
   "source": [
    "setosa_petal = df[df['target'] == 0]['petal length (cm)']\n",
    "versicolor_petal = df[df['target'] == 1]['petal length (cm)']\n",
    "\n",
    "t_stat, p_value = stats.ttest_ind(setosa_petal, versicolor_petal)\n",
    "t_stat, p_value"
   ]
  },
  {
   "cell_type": "markdown",
   "id": "9bf419a3",
   "metadata": {},
   "source": [
    "**Null hypothesis (H0): No difference in mean petal lengths between Setosa and Versicolor.**\n",
    "**If p-value < 0.05, we reject H0 and conclude that there is a significant difference.**"
   ]
  }
 ],
 "metadata": {
  "kernelspec": {
   "display_name": "Python 3",
   "language": "python",
   "name": "python3"
  },
  "language_info": {
   "codemirror_mode": {
    "name": "ipython",
    "version": 3
   },
   "file_extension": ".py",
   "mimetype": "text/x-python",
   "name": "python",
   "nbconvert_exporter": "python",
   "pygments_lexer": "ipython3",
   "version": "3.12.1"
  }
 },
 "nbformat": 4,
 "nbformat_minor": 5
}
